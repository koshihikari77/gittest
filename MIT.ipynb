{
 "cells": [
  {
   "cell_type": "code",
   "execution_count": 1,
   "metadata": {},
   "outputs": [
    {
     "name": "stdout",
     "output_type": "stream",
     "text": [
      "nG = 1000000\n",
      "100.00000000219612 is close to square root of 10000\n"
     ]
    }
   ],
   "source": [
    "x = 10000\n",
    "epsilon = 0.01\n",
    "step = epsilon ** 2\n",
    "nG = 0\n",
    "ans = 0.0\n",
    "while abs(ans**2 - x) >= epsilon and ans <= x:\n",
    "    ans += step\n",
    "    nG += 1\n",
    "print('nG =',nG)\n",
    "if abs(ans**2 - x) >= epsilon:\n",
    "    print('Failed on square root of',x)\n",
    "else:\n",
    "    print(ans, 'is close to square root of', x)"
   ]
  },
  {
   "cell_type": "code",
   "execution_count": 2,
   "metadata": {},
   "outputs": [
    {
     "name": "stdout",
     "output_type": "stream",
     "text": [
      "low = 0.0 high = 123456789 ans = 61728394.5\n",
      "low = 0.0 high = 61728394.5 ans = 30864197.25\n",
      "low = 0.0 high = 30864197.25 ans = 15432098.625\n",
      "low = 0.0 high = 15432098.625 ans = 7716049.3125\n",
      "low = 0.0 high = 7716049.3125 ans = 3858024.65625\n",
      "low = 0.0 high = 3858024.65625 ans = 1929012.328125\n",
      "low = 0.0 high = 1929012.328125 ans = 964506.1640625\n",
      "low = 0.0 high = 964506.1640625 ans = 482253.08203125\n",
      "low = 0.0 high = 482253.08203125 ans = 241126.541015625\n",
      "low = 0.0 high = 241126.541015625 ans = 120563.2705078125\n",
      "low = 0.0 high = 120563.2705078125 ans = 60281.63525390625\n",
      "low = 0.0 high = 60281.63525390625 ans = 30140.817626953125\n",
      "low = 0.0 high = 30140.817626953125 ans = 15070.408813476562\n",
      "low = 0.0 high = 15070.408813476562 ans = 7535.204406738281\n",
      "low = 7535.204406738281 high = 15070.408813476562 ans = 11302.806610107422\n",
      "low = 7535.204406738281 high = 11302.806610107422 ans = 9419.005508422852\n",
      "low = 9419.005508422852 high = 11302.806610107422 ans = 10360.906059265137\n",
      "low = 10360.906059265137 high = 11302.806610107422 ans = 10831.85633468628\n",
      "low = 10831.85633468628 high = 11302.806610107422 ans = 11067.33147239685\n",
      "low = 11067.33147239685 high = 11302.806610107422 ans = 11185.069041252136\n",
      "low = 11067.33147239685 high = 11185.069041252136 ans = 11126.200256824493\n",
      "low = 11067.33147239685 high = 11126.200256824493 ans = 11096.765864610672\n",
      "low = 11096.765864610672 high = 11126.200256824493 ans = 11111.483060717583\n",
      "low = 11096.765864610672 high = 11111.483060717583 ans = 11104.124462664127\n",
      "low = 11104.124462664127 high = 11111.483060717583 ans = 11107.803761690855\n",
      "low = 11107.803761690855 high = 11111.483060717583 ans = 11109.643411204219\n",
      "low = 11109.643411204219 high = 11111.483060717583 ans = 11110.5632359609\n",
      "low = 11110.5632359609 high = 11111.483060717583 ans = 11111.023148339242\n",
      "low = 11111.023148339242 high = 11111.483060717583 ans = 11111.253104528412\n",
      "low = 11111.023148339242 high = 11111.253104528412 ans = 11111.138126433827\n",
      "low = 11111.023148339242 high = 11111.138126433827 ans = 11111.080637386534\n",
      "low = 11111.080637386534 high = 11111.138126433827 ans = 11111.10938191018\n",
      "low = 11111.10938191018 high = 11111.138126433827 ans = 11111.123754172004\n",
      "low = 11111.10938191018 high = 11111.123754172004 ans = 11111.116568041092\n",
      "low = 11111.10938191018 high = 11111.116568041092 ans = 11111.112974975636\n",
      "low = 11111.10938191018 high = 11111.112974975636 ans = 11111.111178442909\n",
      "low = 11111.10938191018 high = 11111.111178442909 ans = 11111.110280176545\n",
      "low = 11111.110280176545 high = 11111.111178442909 ans = 11111.110729309727\n",
      "low = 11111.110729309727 high = 11111.111178442909 ans = 11111.110953876318\n",
      "low = 11111.110953876318 high = 11111.111178442909 ans = 11111.111066159614\n",
      "low = 11111.110953876318 high = 11111.111066159614 ans = 11111.111010017965\n",
      "low = 11111.111010017965 high = 11111.111066159614 ans = 11111.11103808879\n",
      "low = 11111.11103808879 high = 11111.111066159614 ans = 11111.1110521242\n",
      "low = 11111.1110521242 high = 11111.111066159614 ans = 11111.111059141907\n",
      "low = 11111.111059141907 high = 11111.111066159614 ans = 11111.111062650762\n",
      "n = 45\n",
      "11111.111060896335 is close to square root of 123456789\n"
     ]
    }
   ],
   "source": [
    "x = 123456789\n",
    "ep = 0.01\n",
    "n = 0\n",
    "low = 0.0\n",
    "high = max(1.0,x)\n",
    "ans = (high + low)/2.0\n",
    "while abs(ans**2 - x) >= ep:\n",
    "    print('low =',low, 'high =',high, 'ans =', ans)\n",
    "    n += 1\n",
    "    if ans**2 < x:\n",
    "        low = ans\n",
    "    else:\n",
    "        high = ans\n",
    "    ans = (high + low)/2.0\n",
    "print('n =', n)\n",
    "print(ans, 'is close to square root of', x)"
   ]
  },
  {
   "cell_type": "code",
   "execution_count": 3,
   "metadata": {},
   "outputs": [
    {
     "name": "stdout",
     "output_type": "stream",
     "text": [
      "square root of 123456789 is about 11111.111060555555\n",
      "17\n"
     ]
    }
   ],
   "source": [
    "epsilon = 0.01\n",
    "k = 123456789\n",
    "g =  k/2.0\n",
    "n = 0\n",
    "while abs(g*g-k) >= epsilon:\n",
    "    g = g - (((g **2)-k)/(2*g))\n",
    "    n += 1\n",
    "    \n",
    "print('square root of',k,'is about',g)\n",
    "print(n)"
   ]
  },
  {
   "cell_type": "code",
   "execution_count": 4,
   "metadata": {},
   "outputs": [
    {
     "data": {
      "text/plain": [
       "True"
      ]
     },
     "execution_count": 4,
     "metadata": {},
     "output_type": "execute_result"
    }
   ],
   "source": [
    "def strin(x,y):\n",
    "    if x in y:\n",
    "        return True\n",
    "    elif y in x:\n",
    "        return True\n",
    "    else:\n",
    "        False\n",
    "\n",
    "strin('abc','abcdsaf')"
   ]
  },
  {
   "cell_type": "code",
   "execution_count": 5,
   "metadata": {},
   "outputs": [
    {
     "data": {
      "text/plain": [
       "12.999786376953125"
      ]
     },
     "execution_count": 5,
     "metadata": {},
     "output_type": "execute_result"
    }
   ],
   "source": [
    "def findRoot(x, power, epsilon):\n",
    "    \n",
    "    if x < 0 and power%2 == 0:\n",
    "        return None\n",
    "    low = min(-1.0, x)\n",
    "    high = max(1.0, x)\n",
    "    ans = (high + low)/2.0\n",
    "    while abs(ans**power - x) >= epsilon:\n",
    "        if ans**power < x:\n",
    "            low = ans\n",
    "        else:\n",
    "            high = ans\n",
    "        ans = (high + low)/2.0\n",
    "    return ans\n",
    "\n",
    "findRoot(169,2,0.01)"
   ]
  },
  {
   "cell_type": "code",
   "execution_count": 6,
   "metadata": {},
   "outputs": [
    {
     "data": {
      "text/plain": [
       "120"
      ]
     },
     "execution_count": 6,
     "metadata": {},
     "output_type": "execute_result"
    }
   ],
   "source": [
    "def factR(n):\n",
    "    if n == 1:\n",
    "        return n\n",
    "    else:\n",
    "        return n*factR(n - 1)\n",
    "\n",
    "factR(5)"
   ]
  },
  {
   "cell_type": "code",
   "execution_count": 7,
   "metadata": {},
   "outputs": [
    {
     "name": "stdout",
     "output_type": "stream",
     "text": [
      " is called with kook\n",
      " is called with oo\n",
      " is called with \n",
      "About to return True from base case\n",
      " About to return True for oo\n",
      " About to return True for kook\n"
     ]
    },
    {
     "data": {
      "text/plain": [
       "True"
      ]
     },
     "execution_count": 7,
     "metadata": {},
     "output_type": "execute_result"
    }
   ],
   "source": [
    "def p(s):\n",
    "    \n",
    "    def tc(s):\n",
    "        s = s.lower()\n",
    "        letters = ''\n",
    "        for c in s:\n",
    "            if c in 'abcdefghijklmnopqrstuvwxyz':\n",
    "                letters = letters + c\n",
    "        return letters\n",
    "    \n",
    "    def ip(s):\n",
    "        print(' is called with',s)\n",
    "        if len(s) <= 1:\n",
    "            print('About to return True from base case')\n",
    "            return True\n",
    "        else:\n",
    "            answer = s[0] == s[-1] and ip (s[1:-1])\n",
    "            print(' About to return',answer,'for',s)\n",
    "            return answer\n",
    "    \n",
    "    return ip(tc(s))\n",
    "\n",
    "p('kook')"
   ]
  },
  {
   "cell_type": "code",
   "execution_count": 8,
   "metadata": {},
   "outputs": [
    {
     "data": {
      "text/plain": [
       "(5, 25)"
      ]
     },
     "execution_count": 8,
     "metadata": {},
     "output_type": "execute_result"
    }
   ],
   "source": [
    "def fe(n1,n2):\n",
    "    minval,maxval = None,None\n",
    "    for i in range(2,min(n1,n2)+1):\n",
    "        if n1%i==0 and n2%i==0:\n",
    "            if minval==None:\n",
    "                minval=i\n",
    "            maxval = i\n",
    "    return (minval,maxval)\n",
    "\n",
    "fe(25,125)"
   ]
  },
  {
   "cell_type": "code",
   "execution_count": 9,
   "metadata": {},
   "outputs": [
    {
     "name": "stdout",
     "output_type": "stream",
     "text": [
      "[1, 4, 3, 1]\n"
     ]
    }
   ],
   "source": [
    "L = []\n",
    "for i in map(lambda x, y: x**y,[1,2,3,4],[3,2,1,0]):\n",
    "    L.append(i)\n",
    "print(L)\n"
   ]
  },
  {
   "cell_type": "code",
   "execution_count": 10,
   "metadata": {},
   "outputs": [
    {
     "ename": "NameError",
     "evalue": "name 'Person' is not defined",
     "output_type": "error",
     "traceback": [
      "\u001b[1;31m---------------------------------------------------------------------------\u001b[0m",
      "\u001b[1;31mNameError\u001b[0m                                 Traceback (most recent call last)",
      "\u001b[1;32m<ipython-input-10-3e29d8222fee>\u001b[0m in \u001b[0;36m<module>\u001b[1;34m()\u001b[0m\n\u001b[1;32m----> 1\u001b[1;33m \u001b[1;32mclass\u001b[0m \u001b[0mMITPerson\u001b[0m\u001b[1;33m(\u001b[0m\u001b[0mPerson\u001b[0m\u001b[1;33m)\u001b[0m\u001b[1;33m:\u001b[0m\u001b[1;33m\u001b[0m\u001b[0m\n\u001b[0m\u001b[0;32m      2\u001b[0m \u001b[1;33m\u001b[0m\u001b[0m\n\u001b[0;32m      3\u001b[0m     \u001b[0mnextIdNum\u001b[0m \u001b[1;33m=\u001b[0m \u001b[1;36m0\u001b[0m\u001b[1;33m\u001b[0m\u001b[0m\n\u001b[0;32m      4\u001b[0m \u001b[1;33m\u001b[0m\u001b[0m\n\u001b[0;32m      5\u001b[0m     \u001b[1;32mdef\u001b[0m \u001b[0m__init__\u001b[0m\u001b[1;33m(\u001b[0m\u001b[0mself\u001b[0m\u001b[1;33m,\u001b[0m\u001b[0mname\u001b[0m\u001b[1;33m)\u001b[0m\u001b[1;33m:\u001b[0m\u001b[1;33m\u001b[0m\u001b[0m\n",
      "\u001b[1;31mNameError\u001b[0m: name 'Person' is not defined"
     ]
    }
   ],
   "source": [
    "class MITPerson(Person):\n",
    "    \n",
    "    nextIdNum = 0\n",
    "    \n",
    "    def __init__(self,name):\n",
    "        Person.__init(self,name)\n",
    "        self.idNum = MITPerson.nextIdNum\n",
    "        MITPerson.nextIdNum += 1"
   ]
  },
  {
   "cell_type": "code",
   "execution_count": null,
   "metadata": {
    "collapsed": true
   },
   "outputs": [],
   "source": [
    "class InSet(object):\n",
    "    \n",
    "    def __init__(self):\n",
    "        self.vals = []\n",
    "    \n",
    "    def insert(self,e):\n",
    "        if not e in self.vals:\n",
    "            self.vals.append(e)\n",
    "            \n",
    "    def member(self,e):\n",
    "        return e in self.vals\n",
    "    \n",
    "    def remove(self,e):\n",
    "        try:\n",
    "            self.vals.remove(e)\n",
    "        except:\n",
    "            raise ValueError(str(e) + 'not found')\n",
    "            \n",
    "    def getMembers(self):\n",
    "        return self.vals[:]\n",
    "    \n",
    "    def __str__(self):\n",
    "        self.vals.sort()\n",
    "        result = ''\n",
    "        for e in self.vals:\n",
    "            result = result + str(e) + ','\n",
    "        return '{' + result[:-1] + '}'"
   ]
  },
  {
   "cell_type": "code",
   "execution_count": null,
   "metadata": {},
   "outputs": [],
   "source": [
    "s = InSet()\n",
    "s.insert(3)\n",
    "print(s.member(3))"
   ]
  },
  {
   "cell_type": "code",
   "execution_count": null,
   "metadata": {},
   "outputs": [],
   "source": [
    "s = InSet()\n",
    "s.insert(3)\n",
    "s.insert(4)\n",
    "print(s)"
   ]
  },
  {
   "cell_type": "code",
   "execution_count": 47,
   "metadata": {
    "collapsed": true
   },
   "outputs": [],
   "source": [
    "import datetime\n",
    "\n",
    "class Person(object):\n",
    "    \n",
    "    def __init__(self,name):\n",
    "        self.name = name\n",
    "        try:\n",
    "            lastBlank = name.rindex(' ')\n",
    "            self.lastName = name[lastBlank+1:]\n",
    "        except:\n",
    "            self.lastName = name\n",
    "        self.birthday = None\n",
    "        \n",
    "    def getName(self):\n",
    "        return self.name\n",
    "    \n",
    "    def getLastName(self):\n",
    "        return self.lastName\n",
    "    \n",
    "    def setBirthday(self,birthdate):\n",
    "        self.birthday = birthdate\n",
    "        \n",
    "    def getAge(self):\n",
    "        if self.birthday == None:\n",
    "            raise ValueError\n",
    "        return (datetime.date.today() - self.birthday).days\n",
    "    \n",
    "    def __lt__(self,other):\n",
    "        if self.lastName == other.lastName:\n",
    "            return self.name < other.name\n",
    "        return self.lastName < other.lastName\n",
    "    \n",
    "    def __str__(self):\n",
    "        return self.name"
   ]
  },
  {
   "cell_type": "code",
   "execution_count": 48,
   "metadata": {},
   "outputs": [
    {
     "name": "stdout",
     "output_type": "stream",
     "text": [
      "Obama\n",
      "20505\n",
      "Michael Guttag\n",
      "Barack Hussein Obama\n",
      "Madonna\n",
      "Michael Guttag\n",
      "Madonna\n",
      "Barack Hussein Obama\n"
     ]
    }
   ],
   "source": [
    "me = Person('Michael Guttag')\n",
    "him = Person('Barack Hussein Obama')\n",
    "her = Person('Madonna')\n",
    "print(him.getLastName())\n",
    "him.setBirthday(datetime.date(1961, 8, 4))\n",
    "print(him.getAge())\n",
    "\n",
    "plist = [me, him, her]\n",
    "for p in  plist:\n",
    "    print(p)\n",
    "plist.sort()\n",
    "for p in plist:\n",
    "    print(p)"
   ]
  },
  {
   "cell_type": "code",
   "execution_count": 49,
   "metadata": {
    "collapsed": true
   },
   "outputs": [],
   "source": [
    "class MITPerson(Person):\n",
    "    \n",
    "    nextIdNum = 0\n",
    "    \n",
    "    def __init__(self,name):\n",
    "        Person.__init__(self,name)\n",
    "        self.idNum = MITPerson.nextIdNum\n",
    "        MITPerson.nextIdNum += 1\n",
    "        \n",
    "    def getIdNum(self):\n",
    "        return self.idNum\n",
    "    \n",
    "    def isStudent(self):\n",
    "        return isinstance(self,Student)\n",
    "    \n",
    "    def __lt__(self,other):\n",
    "        return self.idNum < other.idNum"
   ]
  },
  {
   "cell_type": "code",
   "execution_count": 50,
   "metadata": {},
   "outputs": [
    {
     "name": "stdout",
     "output_type": "stream",
     "text": [
      "Barbara Beaver's id number is 0\n"
     ]
    }
   ],
   "source": [
    "p1 = MITPerson('Barbara Beaver')\n",
    "print(str(p1) + '\\'s id number is ' + str(p1.getIdNum()))"
   ]
  },
  {
   "cell_type": "code",
   "execution_count": 51,
   "metadata": {},
   "outputs": [],
   "source": [
    "p1 = MITPerson('Mark Guttag')\n",
    "p2 = MITPerson('Billy Bob Beaver')\n",
    "p3 = MITPerson('Billy Bob Beaver')\n",
    "p4 = Person('Billy Bob Beaver')\n"
   ]
  },
  {
   "cell_type": "code",
   "execution_count": 52,
   "metadata": {},
   "outputs": [
    {
     "name": "stdout",
     "output_type": "stream",
     "text": [
      "p1 < p2 = True\n",
      "p3 < p2 = False\n",
      "p4 < p1 = True\n"
     ]
    }
   ],
   "source": [
    "print('p1 < p2 =', p1 < p2)\n",
    "print('p3 < p2 =', p3 < p2)\n",
    "print('p4 < p1 =', p4 < p1)"
   ]
  },
  {
   "cell_type": "code",
   "execution_count": 53,
   "metadata": {
    "collapsed": true
   },
   "outputs": [],
   "source": [
    "class Student(MITPerson):\n",
    "    pass\n",
    "\n",
    "class UG(Student):\n",
    "    def __init__(self,name,classYear):\n",
    "        MITPerson.__init__(self,name)\n",
    "        self.year = classYear\n",
    "    def getClass(self):\n",
    "        return self.year\n",
    "    \n",
    "class Grad(Student):\n",
    "    pass"
   ]
  },
  {
   "cell_type": "code",
   "execution_count": 54,
   "metadata": {},
   "outputs": [
    {
     "name": "stdout",
     "output_type": "stream",
     "text": [
      "Buzz Aldrin is a graduate student is True\n",
      "Buzz Aldrin is an undergraduate student is False\n"
     ]
    }
   ],
   "source": [
    "p5 = Grad('Buzz Aldrin')\n",
    "p6 = UG('Billy Beaver',1984)\n",
    "print(p5,'is a graduate student is',type(p5)==Grad)\n",
    "print(p5,'is an undergraduate student is',type(p5)==UG)"
   ]
  },
  {
   "cell_type": "code",
   "execution_count": 55,
   "metadata": {},
   "outputs": [
    {
     "name": "stdout",
     "output_type": "stream",
     "text": [
      "Buzz Aldrin True\n",
      "Billy Beaver True\n",
      "Billy Bob Beaver False\n"
     ]
    }
   ],
   "source": [
    "print(p5,p5.isStudent())\n",
    "print(p6,p6.isStudent())\n",
    "print(p3,p3.isStudent())"
   ]
  },
  {
   "cell_type": "code",
   "execution_count": 62,
   "metadata": {
    "collapsed": true
   },
   "outputs": [],
   "source": [
    "class Grades(object):\n",
    "    def __init__(self):\n",
    "        self.students = []\n",
    "        self.grades = {}\n",
    "        self.isSorted = True\n",
    "        \n",
    "    def addStudent(self,student):\n",
    "        if student in self.students:\n",
    "            raise ValueError('Duplicate student')\n",
    "        self.students.append(student)\n",
    "        self.grades[student.getIdNum()] = []\n",
    "        self.isSorted = False\n",
    "    \n",
    "    def addGrade(self,student,grade):\n",
    "        try:\n",
    "            self.grades[student.getIdNum()].append(grade)\n",
    "        \n",
    "        except:\n",
    "            raise ValueError('Student not in mapping')\n",
    "    \n",
    "    def getGrades(self,student):\n",
    "        try:\n",
    "            return self.grades[student.getIdNum()][:]\n",
    "        except:\n",
    "            raise ValueError('Student not in mapping')\n",
    "            \n",
    "    def getStudents(self):\n",
    "        if not self.isSorted:\n",
    "            self.students.sort()\n",
    "            self.isSorted = True\n",
    "        for s in self.students:\n",
    "            yield s\n",
    "    "
   ]
  },
  {
   "cell_type": "code",
   "execution_count": 60,
   "metadata": {
    "collapsed": true
   },
   "outputs": [],
   "source": [
    "def gradeReport(course):\n",
    "    report = ''\n",
    "    for s in course.getStudents():\n",
    "        tot = 0.0\n",
    "        numGrades = 0\n",
    "        for g in course.getGrades(s):\n",
    "            tot += g\n",
    "            numGrades += 1\n",
    "        try:\n",
    "            average = tot/numGrades\n",
    "            report = report + '\\n'\\\n",
    "                    + str(s) + '\\'s mean grade is ' + str(average)\n",
    "        except ZeroDivisionError:\n",
    "            report = report + '\\n'\\\n",
    "                    + str(s) + ' has no grades'\n",
    "    return report"
   ]
  },
  {
   "cell_type": "code",
   "execution_count": 61,
   "metadata": {},
   "outputs": [
    {
     "name": "stdout",
     "output_type": "stream",
     "text": [
      "\n",
      "Jane Doe's mean grade is 75.0\n",
      "John Doe's mean grade is 75.0\n",
      "David Henry has no grades\n",
      "Billy Bucker's mean grade is 50.0\n",
      "Bucky F. Dent's mean grade is 87.5\n"
     ]
    }
   ],
   "source": [
    "ug1 = UG('Jane Doe',2014)\n",
    "ug2 = UG('John Doe',2015)\n",
    "ug3 = UG('David Henry',2003)\n",
    "g1 = Grad('Billy Bucker')\n",
    "g2 = Grad('Bucky F. Dent')\n",
    "sixHundred = Grades()\n",
    "sixHundred.addStudent(ug1)\n",
    "sixHundred.addStudent(ug2)\n",
    "sixHundred.addStudent(g1)\n",
    "sixHundred.addStudent(g2)\n",
    "for s in sixHundred.getStudents():\n",
    "    sixHundred.addGrade(s,75)\n",
    "sixHundred.addGrade(g1,25)\n",
    "sixHundred.addGrade(g2,100)\n",
    "sixHundred.addStudent(ug3)\n",
    "print(gradeReport(sixHundred))"
   ]
  },
  {
   "cell_type": "code",
   "execution_count": 78,
   "metadata": {
    "collapsed": true
   },
   "outputs": [],
   "source": [
    "def findPayment(loan,r,m):\n",
    "    return loan*((r*(1+r)**m)/((1+r)**m-1))\n",
    "\n",
    "class Mortgage(object):\n",
    "    def __init__(self,loan,annRate,months):\n",
    "        self.loan = loan\n",
    "        self.rate = annRate/12\n",
    "        self.months = months\n",
    "        self.paid = [0.0]\n",
    "        self.outstanding = [loan]\n",
    "        self.payment = findPayment(loan,self.rate,months)\n",
    "        self.legend = None\n",
    "    def makePayment(self):\n",
    "        self.paid.append(self.payment)\n",
    "        reduction = self.payment - self.outstanding[-1]*self.rate\n",
    "        self.outstanding.append(self.outstanding[-1] - reduction)\n",
    "    def getTotalPaid(self):\n",
    "        return sum(self.paid)\n",
    "    def __str__(self):\n",
    "        return self.legend"
   ]
  },
  {
   "cell_type": "code",
   "execution_count": 79,
   "metadata": {},
   "outputs": [],
   "source": [
    "class Fixed(Mortgage):\n",
    "    def __init__(self,loan,r,months):\n",
    "        Mortgage.__init__(self,loan,r,months)\n",
    "        self.legend = 'Fixed, ' + str(round(r*100,2)) + '%'\n",
    "        \n",
    "class FixedWithPts(Mortgage):\n",
    "    def __init__(self,loan,r,months,pts):\n",
    "        self.pts = pts\n",
    "        self.paid = [loan*(pts/100)]\n",
    "        self.legend = 'Fixed, ' + str(round(r*100, 2)) + '%, '\\\n",
    "                     + str(pts) + ' points'\n",
    "\n",
    "class TwoRate(Mortgage):\n",
    "    def __init__(self,loan,r,months,teaserRate,teaserMonths):\n",
    "        Mortgage.__init__(self,loan,teaserRate,months)\n",
    "        self.teaserMonths = teaserMonths\n",
    "        self.teaserRate = teaserRate\n",
    "        self.nextRate = r/12\n",
    "        self.legend = str(teaserRate*100)\\\n",
    "                      +'% for ' + str(self.teaserMonths)\\\n",
    "                      + ' months, then ' + str(round(r*100,2)) + '%'\n",
    "    def makePayment(self):\n",
    "        if len(self.paid) == self.teaserMonths + 1:\n",
    "            self.rate = self.nextRate\n",
    "            self.payment = findPayment(self.outstanding[-1],\n",
    "                                       self.rate,\n",
    "                                       self.months - self.teaserMonths)\n",
    "        Mortgage.makePayment(self)"
   ]
  },
  {
   "cell_type": "code",
   "execution_count": 80,
   "metadata": {},
   "outputs": [
    {
     "ename": "AttributeError",
     "evalue": "'FixedWithPts' object has no attribute 'payment'",
     "output_type": "error",
     "traceback": [
      "\u001b[1;31m---------------------------------------------------------------------------\u001b[0m",
      "\u001b[1;31mAttributeError\u001b[0m                            Traceback (most recent call last)",
      "\u001b[1;32m<ipython-input-80-2878dedeb180>\u001b[0m in \u001b[0;36m<module>\u001b[1;34m()\u001b[0m\n\u001b[0;32m     15\u001b[0m compareMortgages(amt=200000,years=30,fixedRate=0.07,\n\u001b[0;32m     16\u001b[0m                  \u001b[0mpts\u001b[0m \u001b[1;33m=\u001b[0m \u001b[1;36m3.25\u001b[0m\u001b[1;33m,\u001b[0m \u001b[0mptsRate\u001b[0m\u001b[1;33m=\u001b[0m\u001b[1;36m0.05\u001b[0m\u001b[1;33m,\u001b[0m \u001b[0mvarRate1\u001b[0m\u001b[1;33m=\u001b[0m\u001b[1;36m0.045\u001b[0m\u001b[1;33m,\u001b[0m\u001b[1;33m\u001b[0m\u001b[0m\n\u001b[1;32m---> 17\u001b[1;33m                  varRate2=0.095, varMonths=48)\n\u001b[0m",
      "\u001b[1;32m<ipython-input-80-2878dedeb180>\u001b[0m in \u001b[0;36mcompareMortgages\u001b[1;34m(amt, years, fixedRate, pts, ptsRate, varRate1, varRate2, varMonths)\u001b[0m\n\u001b[0;32m      8\u001b[0m     \u001b[1;32mfor\u001b[0m \u001b[0mm\u001b[0m \u001b[1;32min\u001b[0m \u001b[0mrange\u001b[0m\u001b[1;33m(\u001b[0m\u001b[0mtotMonths\u001b[0m\u001b[1;33m)\u001b[0m\u001b[1;33m:\u001b[0m\u001b[1;33m\u001b[0m\u001b[0m\n\u001b[0;32m      9\u001b[0m         \u001b[1;32mfor\u001b[0m \u001b[0mmort\u001b[0m \u001b[1;32min\u001b[0m \u001b[0mmorts\u001b[0m\u001b[1;33m:\u001b[0m\u001b[1;33m\u001b[0m\u001b[0m\n\u001b[1;32m---> 10\u001b[1;33m             \u001b[0mmort\u001b[0m\u001b[1;33m.\u001b[0m\u001b[0mmakePayment\u001b[0m\u001b[1;33m(\u001b[0m\u001b[1;33m)\u001b[0m\u001b[1;33m\u001b[0m\u001b[0m\n\u001b[0m\u001b[0;32m     11\u001b[0m     \u001b[1;32mfor\u001b[0m \u001b[0mm\u001b[0m \u001b[1;32min\u001b[0m \u001b[0mmorts\u001b[0m\u001b[1;33m:\u001b[0m\u001b[1;33m\u001b[0m\u001b[0m\n\u001b[0;32m     12\u001b[0m         \u001b[0mprint\u001b[0m\u001b[1;33m(\u001b[0m\u001b[0mm\u001b[0m\u001b[1;33m)\u001b[0m\u001b[1;33m\u001b[0m\u001b[0m\n",
      "\u001b[1;32m<ipython-input-78-53ee4ae35097>\u001b[0m in \u001b[0;36mmakePayment\u001b[1;34m(self)\u001b[0m\n\u001b[0;32m     12\u001b[0m         \u001b[0mself\u001b[0m\u001b[1;33m.\u001b[0m\u001b[0mlegend\u001b[0m \u001b[1;33m=\u001b[0m \u001b[1;32mNone\u001b[0m\u001b[1;33m\u001b[0m\u001b[0m\n\u001b[0;32m     13\u001b[0m     \u001b[1;32mdef\u001b[0m \u001b[0mmakePayment\u001b[0m\u001b[1;33m(\u001b[0m\u001b[0mself\u001b[0m\u001b[1;33m)\u001b[0m\u001b[1;33m:\u001b[0m\u001b[1;33m\u001b[0m\u001b[0m\n\u001b[1;32m---> 14\u001b[1;33m         \u001b[0mself\u001b[0m\u001b[1;33m.\u001b[0m\u001b[0mpaid\u001b[0m\u001b[1;33m.\u001b[0m\u001b[0mappend\u001b[0m\u001b[1;33m(\u001b[0m\u001b[0mself\u001b[0m\u001b[1;33m.\u001b[0m\u001b[0mpayment\u001b[0m\u001b[1;33m)\u001b[0m\u001b[1;33m\u001b[0m\u001b[0m\n\u001b[0m\u001b[0;32m     15\u001b[0m         \u001b[0mreduction\u001b[0m \u001b[1;33m=\u001b[0m \u001b[0mself\u001b[0m\u001b[1;33m.\u001b[0m\u001b[0mpayment\u001b[0m \u001b[1;33m-\u001b[0m \u001b[0mself\u001b[0m\u001b[1;33m.\u001b[0m\u001b[0moutstanding\u001b[0m\u001b[1;33m[\u001b[0m\u001b[1;33m-\u001b[0m\u001b[1;36m1\u001b[0m\u001b[1;33m]\u001b[0m\u001b[1;33m*\u001b[0m\u001b[0mself\u001b[0m\u001b[1;33m.\u001b[0m\u001b[0mrate\u001b[0m\u001b[1;33m\u001b[0m\u001b[0m\n\u001b[0;32m     16\u001b[0m         \u001b[0mself\u001b[0m\u001b[1;33m.\u001b[0m\u001b[0moutstanding\u001b[0m\u001b[1;33m.\u001b[0m\u001b[0mappend\u001b[0m\u001b[1;33m(\u001b[0m\u001b[0mself\u001b[0m\u001b[1;33m.\u001b[0m\u001b[0moutstanding\u001b[0m\u001b[1;33m[\u001b[0m\u001b[1;33m-\u001b[0m\u001b[1;36m1\u001b[0m\u001b[1;33m]\u001b[0m \u001b[1;33m-\u001b[0m \u001b[0mreduction\u001b[0m\u001b[1;33m)\u001b[0m\u001b[1;33m\u001b[0m\u001b[0m\n",
      "\u001b[1;31mAttributeError\u001b[0m: 'FixedWithPts' object has no attribute 'payment'"
     ]
    }
   ],
   "source": [
    "def compareMortgages(amt,years,fixedRate,pts,ptsRate,\n",
    "                     varRate1,varRate2,varMonths):\n",
    "    totMonths = years*12\n",
    "    fixed1 = Fixed(amt,fixedRate,totMonths)\n",
    "    fixed2 = FixedWithPts(amt,ptsRate,totMonths,pts)\n",
    "    twoRate = TwoRate(amt,varRate2,totMonths,varRate1,varMonths)\n",
    "    morts = [fixed1,fixed2,twoRate]\n",
    "    for m in range(totMonths):\n",
    "        for mort in morts:\n",
    "            mort.makePayment()\n",
    "    for m in morts:\n",
    "        print(m)\n",
    "        print(' Total payments = $' + str(int(m.getTotalPaid())))\n",
    "        \n",
    "compareMortgages(amt=200000,years=30,fixedRate=0.07,\n",
    "                 pts = 3.25, ptsRate=0.05, varRate1=0.045,\n",
    "                 varRate2=0.095, varMonths=48)"
   ]
  },
  {
   "cell_type": "code",
   "execution_count": null,
   "metadata": {
    "collapsed": true
   },
   "outputs": [],
   "source": []
  },
  {
   "cell_type": "code",
   "execution_count": null,
   "metadata": {
    "collapsed": true
   },
   "outputs": [],
   "source": []
  }
 ],
 "metadata": {
  "kernelspec": {
   "display_name": "Python 3",
   "language": "python",
   "name": "python3"
  },
  "language_info": {
   "codemirror_mode": {
    "name": "ipython",
    "version": 3
   },
   "file_extension": ".py",
   "mimetype": "text/x-python",
   "name": "python",
   "nbconvert_exporter": "python",
   "pygments_lexer": "ipython3",
   "version": "3.6.1"
  }
 },
 "nbformat": 4,
 "nbformat_minor": 2
}
