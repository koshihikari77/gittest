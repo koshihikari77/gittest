{
 "cells": [
  {
   "cell_type": "code",
   "execution_count": 19,
   "metadata": {},
   "outputs": [],
   "source": [
    "import random \n",
    "\n",
    "card_num = ['A']+list(map(str,range(1,11)))+['J','Q','K']\n",
    "card_mark = ['c','d','h','s']\n",
    "all_cards = [a + b for a in card_mark for b in card_num]\n",
    "\n",
    "drawn_cards = []\n",
    "\n",
    "def draw(x,y,z):\n",
    "    d = []\n",
    "    random.shuffle(y)\n",
    "    for i in range(x):\n",
    "        z.append(y[0])\n",
    "        d.append(y[0])\n",
    "        del y[0] \n",
    "    return d\n",
    "        \n",
    "        \n",
    "        \n",
    "    "
   ]
  },
  {
   "cell_type": "code",
   "execution_count": 23,
   "metadata": {},
   "outputs": [
    {
     "data": {
      "text/plain": [
       "['d7', 'h6', 's3', 'h10', 's8', 'd8', 's4', 's2']"
      ]
     },
     "execution_count": 23,
     "metadata": {},
     "output_type": "execute_result"
    }
   ],
   "source": [
    "draw(2,all_cards,drawn_cards)\n",
    "drawn_cards"
   ]
  },
  {
   "cell_type": "code",
   "execution_count": null,
   "metadata": {
    "collapsed": true
   },
   "outputs": [],
   "source": []
  }
 ],
 "metadata": {
  "kernelspec": {
   "display_name": "Python 3",
   "language": "python",
   "name": "python3"
  },
  "language_info": {
   "codemirror_mode": {
    "name": "ipython",
    "version": 3
   },
   "file_extension": ".py",
   "mimetype": "text/x-python",
   "name": "python",
   "nbconvert_exporter": "python",
   "pygments_lexer": "ipython3",
   "version": "3.6.1"
  }
 },
 "nbformat": 4,
 "nbformat_minor": 2
}
